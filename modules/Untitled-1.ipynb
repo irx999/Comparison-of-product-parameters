{
 "cells": [
  {
   "cell_type": "code",
   "execution_count": 2,
   "metadata": {},
   "outputs": [],
   "source": [
    "import requests\n",
    "COMPANY_DOMAIN = \"cqzs.3cerp.com\"\n",
    "class ERP():\n",
    "    \"\"\" 这里是3cerp功能相关的类 \"\"\"\n",
    "    def __init__(self,erpcookies=None) -> None:\n",
    "        self.cookies = {'3cu':erpcookies}\n",
    "        self.headers = {\"Accept-Encoding\":\"gzip, deflate\",\"User-Agent\": \"Mozilla/5.0 (Windows NT 10.0; WOW64) AppleWebKit/537.36 (KHTML, like Gecko) Chrome/58.0.3029.110 Safari/537.36 SE 2.X MetaSr 1.0\"}\n",
    "\n",
    "    def get_product_list(self,cBillcode):\n",
    "        \"\"\" 获取产品列表 \"\"\"\n",
    "        need_key = [\"c_goods_sku\",\"c_product_goods_name\",\"n\"]\n",
    "        url = f\"http://{COMPANY_DOMAIN}/pages/net/searchNetOrderDetail.htm?cBillcode={cBillcode}\"\n",
    "        res = requests.get(url=url,headers=self.headers,cookies=self.cookies,verify= False,timeout= 20)\n",
    "        data = res.json()[\"data\"]\n",
    "        return {\"emp_name\":data[\"data_order\"][0][\"c_handing_emp_org_name\"], \"data\":[{key: d[key] for key in need_key} for d in data[\"data_order_deliver_goods\"]]}\n",
    "    \n",
    "    def get_product_detail(self,c_goods_sku):\n",
    "        \"\"\" 直接从分区库存里面获取可销数 \"\"\"\n",
    "\n",
    "        need_key  = [\"c_c_name\",\"n_stock\",\"n_stock_able\"]\n",
    "        if \"*\" in c_goods_sku:\n",
    "            c_goods_sku = c_goods_sku[:-2]\n",
    "\n",
    "\n",
    "        return_list = {}\n",
    "        for  k , v  in [[\"正常\",c_goods_sku],\n",
    "                        [\"**\",c_goods_sku+\"**\"],\n",
    "                        [\"*!\",c_goods_sku+\"*!\"],\n",
    "                        [\"*?\",c_goods_sku+\"*?\"]]:\n",
    "            \n",
    "            if \"*\" not in c_goods_sku or  \"*\" not in k:\n",
    "                url = f\"http://{COMPANY_DOMAIN}/pages/stock/searchDeoptStockList.htm?filter={v}&depotIds=&b_stock=0&search_category=&search_out_stock=0&pageSize=100&pageIndex=0&sortField=&sortOrder=\"\n",
    "                res = requests.get(url=url,headers=self.headers,cookies=self.cookies,verify= False,timeout= 20)\n",
    "\n",
    "                if res.json()[\"total\"] == 0:\n",
    "                    return_list[k] = [\"无此产品\"]\n",
    "                else:\n",
    "                    good_list = res.json()[\"data\"]\n",
    "                    extracted_data = [{key: d[key] for key in need_key} for d in good_list]\n",
    "                    return_list[k] = extracted_data\n",
    "        return return_list\n",
    "    \n",
    "\n",
    "\n",
    "\n",
    "\n",
    "\n",
    "\n",
    "\n",
    "\n",
    "\n",
    "\n",
    "\n",
    "\n",
    "\n"
   ]
  },
  {
   "cell_type": "code",
   "execution_count": null,
   "metadata": {},
   "outputs": [],
   "source": [
    "erp = ERP(erpcookies=\"\")\n",
    "data = erp.get_product_list(\"NO-241003-0071631\")\n",
    "\n",
    "ans = {}\n",
    "for goods in data[\"data\"]:\n",
    "    goods[\"test\"] = erp.get_product_detail(goods[\"c_goods_sku\"])\n",
    "\n",
    "data\n",
    "\n"
   ]
  },
  {
   "cell_type": "code",
   "execution_count": null,
   "metadata": {},
   "outputs": [],
   "source": [
    "ans = data[\"data\"]\n",
    "ans"
   ]
  }
 ],
 "metadata": {
  "kernelspec": {
   "display_name": "Python 3",
   "language": "python",
   "name": "python3"
  },
  "language_info": {
   "codemirror_mode": {
    "name": "ipython",
    "version": 3
   },
   "file_extension": ".py",
   "mimetype": "text/x-python",
   "name": "python",
   "nbconvert_exporter": "python",
   "pygments_lexer": "ipython3",
   "version": "3.12.0"
  }
 },
 "nbformat": 4,
 "nbformat_minor": 2
}
